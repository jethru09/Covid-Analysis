{
 "cells": [
  {
   "cell_type": "code",
   "execution_count": 23,
   "id": "06e14446-4fba-494d-bf1b-116a3e9831b2",
   "metadata": {},
   "outputs": [],
   "source": [
    "import pandas as pd\n",
    "import numpy as np\n",
    "import math\n",
    "import numpy as np\n",
    "import matplotlib.pyplot as plt\n",
    "from sklearn.linear_model import Ridge"
   ]
  },
  {
   "cell_type": "code",
   "execution_count": 24,
   "id": "eac0b4be-9047-4ccc-8cfc-15795001caa2",
   "metadata": {},
   "outputs": [],
   "source": [
    "data = pd.read_csv(\"covid_19_data.csv\")\n",
    "df = data.drop([\"Province/State\", \"Country/Region\", \"Last Update\"], axis =1)\n",
    "data = df.groupby(['ObservationDate', \"Confirmed\", \"Deaths\", \"Recovered\"])\n",
    "result = df.groupby(['ObservationDate']).agg({'Confirmed': sum,'Deaths': sum, \"Recovered\":sum, 'SNo': list}).reset_index()"
   ]
  },
  {
   "cell_type": "code",
   "execution_count": 25,
   "id": "46fdc6a6-3a7e-4f03-ac57-42e1d7d962ea",
   "metadata": {},
   "outputs": [],
   "source": [
    "result = result.sort_values(by='SNo')\n",
    "result = result.drop([\"SNo\"], axis =1 )"
   ]
  },
  {
   "cell_type": "code",
   "execution_count": 26,
   "id": "d441df00-a0c6-4006-ba69-bcaa0cc5da17",
   "metadata": {},
   "outputs": [],
   "source": [
    "result = df.groupby(['ObservationDate']).agg({'Confirmed': sum,'Deaths': sum, \"Recovered\":sum, 'SNo': list}).reset_index()\n",
    "result = result.sort_values(by='SNo')\n",
    "result = result.drop([\"SNo\"], axis =1 )\n",
    "input_data = pd.DataFrame()\n",
    "\n",
    "input_data[\"Confirmed\"] = result['Confirmed'].cumsum()\n",
    "input_data[\"Deaths\"] = result['Deaths'].cumsum()\n",
    "input_data[\"Recovered\"] = result['Recovered'].cumsum()\n",
    "input_data = input_data.reset_index()\n",
    "input_data = input_data.drop([\"index\"], axis =1)\n",
    "test_data = input_data\n",
    "test_data = test_data.tail(60)\n",
    "input_data = input_data"
   ]
  },
  {
   "cell_type": "code",
   "execution_count": 27,
   "id": "0336a8e3-95a6-4fc9-9bed-947563e68918",
   "metadata": {},
   "outputs": [],
   "source": [
    "population = 788834676700\n",
    "X_confirmed = np.array(input_data[\"Confirmed\"])\n",
    "recovered = np.array(input_data[\"Recovered\"])\n",
    "death = np.array(input_data[\"Deaths\"])\n",
    "\n",
    "\n",
    "X = X_confirmed - recovered - death\n",
    "R = recovered + death\n",
    "n = np.array([population] * len(X), dtype=np.float64)\n",
    "S = n - X - R"
   ]
  },
  {
   "cell_type": "code",
   "execution_count": 28,
   "id": "38a4ae1c-bf3f-488a-b2e5-d8e548b0d225",
   "metadata": {},
   "outputs": [],
   "source": [
    "\n",
    "gamma = (R[1:] - R[:-1]) / X[:-1] #rate at which people recover or die\n",
    "beta = n[:-1] * (X[1:] - X[:-1] + R[1:] - R[:-1]) / (X[:-1] * (n[:-1] - X[:-1] - R[:-1])) #Transmission rate\n",
    "R0 = beta / gamma  #reproduction number"
   ]
  },
  {
   "cell_type": "code",
   "execution_count": 29,
   "id": "db2cc85e-79ac-4775-ba93-10464e59ca1c",
   "metadata": {},
   "outputs": [],
   "source": [
    "\n",
    "def dataset(data, orders):\n",
    "    x_train = []\n",
    "    for i in range(len(data)  - orders):\n",
    "        x_train.append(data[i:orders + i])\n",
    "    return np.array(x_train), data[orders:]"
   ]
  },
  {
   "cell_type": "code",
   "execution_count": 30,
   "id": "4b54707c-9162-4a8a-ae75-7d343043e0ff",
   "metadata": {},
   "outputs": [],
   "source": [
    "x_beta, y_beta = dataset(beta, 10)\n",
    "x_gamma, y_gamma = dataset(gamma, 10)"
   ]
  },
  {
   "cell_type": "code",
   "execution_count": 31,
   "id": "7cd59b19-4312-48b9-8a6a-cbc5f820c3fa",
   "metadata": {},
   "outputs": [],
   "source": [
    "import warnings\n",
    "warnings.filterwarnings(\"ignore\")\n",
    "\n",
    "beta_ = Ridge(alpha=0.1, fit_intercept=False)\n",
    "gamma_ = Ridge(alpha=0.1, fit_intercept=False)\n",
    "beta_.fit(x_beta, y_beta)\n",
    "gamma_.fit(x_gamma, y_gamma)\n",
    "\n",
    "#Prediction\n",
    "beta_pred = beta_.predict(x_beta)\n",
    "gamma_pred = gamma_.predict(x_gamma)"
   ]
  },
  {
   "cell_type": "code",
   "execution_count": 32,
   "id": "ab598b1b-0cf1-49d0-8dde-2a49a40c205a",
   "metadata": {},
   "outputs": [],
   "source": [
    "\n",
    "S_predict = [S[-1]]\n",
    "X_predict = [X[-1]]\n",
    "R_predict = [R[-1]]\n",
    "\n",
    "predict_beta = np.array(beta_pred[-10:]).tolist()\n",
    "predict_gamma = np.array(gamma_pred[-10:]).tolist()"
   ]
  },
  {
   "cell_type": "code",
   "execution_count": 33,
   "id": "bc2efdb9-bc83-43d6-82e0-c6d2a7576a85",
   "metadata": {},
   "outputs": [],
   "source": [
    "\n",
    "for i in range(20): #lags = 10\n",
    "    next_beta = beta_.predict(np.asarray([predict_beta[-10:]]))[0]\n",
    "    next_gamma = gamma_.predict(np.asarray([predict_gamma[-10:]]))[0]\n",
    "    if next_beta<0:\n",
    "        predict_beta.append(0)\n",
    "    else:\n",
    "        predict_beta.append(next_beta)\n",
    "        \n",
    "    if next_gamma<0:\n",
    "        predict_gamma.append(0)\n",
    "    else:\n",
    "        predict_gamma.append(next_gamma)\n",
    "        \n",
    "    S_predict.append(((-predict_beta[-1] * S_predict[-1] * X_predict[-1]) / n[-1]) + S_predict[-1])\n",
    "    X_predict.append(((predict_beta[-1] * S_predict[-1] * X_predict[-1]) / n[-1]) - (predict_gamma[-1] * X_predict[-1]) + X_predict[-1])\n",
    "    R_predict.append((predict_gamma[-1] * X_predict[-1]) + R_predict[-1])"
   ]
  },
  {
   "cell_type": "code",
   "execution_count": 34,
   "id": "775b149b-85db-4a93-889e-faec41251f3a",
   "metadata": {},
   "outputs": [],
   "source": [
    "\n",
    "def plot():\n",
    "    plt.figure(1)\n",
    "    plt.title('SIR Model')\n",
    "    plt.plot(range(len(X) - 1, len(X) - 1 + len(X_predict)), X_predict, 'o' ,label=\" Predicted Positive Cases\", color='green')\n",
    "    plt.plot(range(len(X) - 1, len(X) - 1 + len(X_predict)), R_predict, 'o', label=\"Predicted Recovered + Death\", color='grey')\n",
    "    plt.plot(range(400,len(X)), X[400:], 'o', label=\"Positive Cases\", color='gold')\n",
    "    plt.plot(range(400, len(X)), R[400:], 'o', label=\"Recovered + Death\", color='brown')\n",
    "    plt.xlabel('Time Line(in days)')\n",
    "    plt.ylabel('Count')\n",
    "    plt.legend()\n",
    "    plt.show()"
   ]
  },
  {
   "cell_type": "code",
   "execution_count": 35,
   "id": "dc6bc49a-6e51-4111-ad8c-7995b6adfad2",
   "metadata": {},
   "outputs": [
    {
     "name": "stdout",
     "output_type": "stream",
     "text": [
      "**************************************************\n",
      "Covid-19 infected cases:  10226611791\n",
      "Recovered + Deaths:  16177397931\n",
      "Expected Confirmed cases:  26404009722\n",
      "**************************************************\n"
     ]
    },
    {
     "data": {
      "image/png": "[encoded data removed]",
      "text/plain": [
       "<Figure size 640x480 with 1 Axes>"
      ]
     },
     "metadata": {},
     "output_type": "display_data"
    }
   ],
   "source": [
    "\n",
    "print(\"*\"*50)\n",
    "print(\"Covid-19 infected cases: \", int(X_predict[1]))\n",
    "print(\"Recovered + Deaths: \", int(R_predict[1]))\n",
    "print(\"Expected Confirmed cases: \",int(X_predict[1] + R_predict[1]))\n",
    "print(\"*\"*50)\n",
    "plot()"
   ]
  }
 ],
 "metadata": {
  "kernelspec": {
   "display_name": "Python 3 (ipykernel)",
   "language": "python",
   "name": "python3"
  },
  "language_info": {
   "codemirror_mode": {
    "name": "ipython",
    "version": 3
   },
   "file_extension": ".py",
   "mimetype": "text/x-python",
   "name": "python",
   "nbconvert_exporter": "python",
   "pygments_lexer": "ipython3",
   "version": "3.12.1"
  }
 },
 "nbformat": 4,
 "nbformat_minor": 5
}
